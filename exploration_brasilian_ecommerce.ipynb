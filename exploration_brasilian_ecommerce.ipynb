{
 "cells": [
  {
   "cell_type": "markdown",
   "id": "d4e71b00",
   "metadata": {},
   "source": [
    "## Exploring Brazilian E-commerce Data\n",
    "\n",
    "In this notebook, we are going to explore a dataset related to e-commerce sales in Brazil."
   ]
  },
  {
   "cell_type": "markdown",
   "id": "09f2b90b",
   "metadata": {},
   "source": [
    "First, let's import the necessary Python libraries for data processing and visualization."
   ]
  },
  {
   "cell_type": "code",
   "execution_count": null,
   "id": "bc36696f",
   "metadata": {},
   "outputs": [],
   "source": [
    "import sys, json\n",
    "import numpy as np\n",
    "import pandas as pd\n",
    "import matplotlib.pyplot as plt\n",
    "import seaborn as sns\n",
    "import plotly.express as px\n",
    "import datetime as datetime"
   ]
  },
  {
   "cell_type": "markdown",
   "id": "04126141",
   "metadata": {},
   "source": [
    "Next, we load a GeoJSON file that contains the map of Brazil's federal states."
   ]
  },
  {
   "cell_type": "code",
   "execution_count": null,
   "id": "0fc5cfa0",
   "metadata": {},
   "outputs": [],
   "source": [
    "geojson = json.load(open('geojson/brasil_estados.json'))"
   ]
  },
  {
   "cell_type": "markdown",
   "id": "64dc47ac",
   "metadata": {},
   "source": [
    "We now load various CSV files into pandas dataframes. Each file represents different aspects of the orders:\n",
    "\n",
    "1. `olist_customers_dataset.csv`: Customer data.\n",
    "2. `olist_order_items_dataset.csv`: Order items data.\n",
    "3. `olist_order_payments_dataset.csv`: Payment data.\n",
    "4. `olist_order_reviews_dataset.csv`: Customer reviews data.\n",
    "5. `olist_orders_dataset.csv`: Orders data.\n",
    "6. `olist_products_dataset.csv`: Products data.\n",
    "7. `product_category_name_translation.csv`: Product categories translation data."
   ]
  },
  {
   "cell_type": "code",
   "execution_count": null,
   "id": "afd6bf32",
   "metadata": {},
   "outputs": [],
   "source": [
    "df0 = pd.read_csv('datasets/olist_customers_dataset.csv')\n",
    "df2 = pd.read_csv('datasets/olist_order_items_dataset.csv')\n",
    "df3 = pd.read_csv('datasets/olist_order_payments_dataset.csv')\n",
    "df4 = pd.read_csv('datasets/olist_order_reviews_dataset.csv')\n",
    "df5 = pd.read_csv('datasets/olist_orders_dataset.csv')\n",
    "df6 = pd.read_csv('datasets/olist_products_dataset.csv')\n",
    "df8 = pd.read_csv('datasets/product_category_name_translation.csv')"
   ]
  },
  {
   "cell_type": "markdown",
   "id": "c34fbeab",
   "metadata": {},
   "source": [
    "Now, we calculate and display the number of rows and columns in each dataframe to understand the size of our data."
   ]
  },
  {
   "cell_type": "code",
   "execution_count": null,
   "id": "5544ed90",
   "metadata": {},
   "outputs": [],
   "source": [
    "shapes = []\n",
    "dfs = [df0,df2,df3,df4,df5,df6,df8]\n",
    "for d in dfs :\n",
    "    shapes.append(d.shape)\n",
    "\n",
    "shapes = pd.DataFrame(data = shapes)# , columns = {'Rows','Coloumns'})\n",
    "shapes"
   ]
  },
  {
   "cell_type": "code",
   "execution_count": null,
   "id": "0b4c00ad",
   "metadata": {},
   "outputs": [],
   "source": [
    "print(df0.columns)\n",
    "print(df2.columns)\n",
    "print(df3.columns)\n",
    "print(df4.columns)\n",
    "print(df5.columns)\n",
    "print(df6.columns)\n",
    "print(df8.columns)"
   ]
  },
  {
   "cell_type": "code",
   "execution_count": null,
   "id": "b933011f",
   "metadata": {},
   "outputs": [],
   "source": [
    "df0 = df0[['customer_unique_id','customer_id','customer_zip_code_prefix','customer_city', 'customer_state']]\n",
    "df2 = df2[['order_id', 'order_item_id', 'product_id', 'price', 'freight_value']]\n",
    "df3 = df3[['order_id', 'payment_installments', 'payment_value']]\n",
    "df4 = df4[['order_id','review_score']]\n",
    "df5 = df5[['order_id', 'customer_id', 'order_purchase_timestamp','order_delivered_customer_date']]\n",
    "df6 = df6[['product_id', 'product_category_name']]\n",
    "df8 = df8[['product_category_name', 'product_category_name_english']]"
   ]
  },
  {
   "cell_type": "code",
   "execution_count": null,
   "id": "58d48f2f",
   "metadata": {},
   "outputs": [],
   "source": [
    "df = df0\n",
    "del df0\n",
    "df_orders = df2.merge(right=df3, on='order_id')\n",
    "del df2,df3\n",
    "df_orders = df_orders.merge(right=df4, on='order_id')\n",
    "del df4\n",
    "df_orders = df_orders.merge(right=df5, on='order_id')\n",
    "del df5\n",
    "df_orders = df_orders.merge(right=df6, on='product_id')\n",
    "del df6\n",
    "df_orders = df_orders.merge(right=df8, on='product_category_name')\n",
    "del df8\n",
    "df = df.merge(right=df_orders, on='customer_id')\n",
    "del df_orders\n",
    "df = df[['customer_unique_id','customer_city','customer_state','order_id','product_id',\n",
    "         'price','payment_value','payment_installments','review_score','freight_value','order_purchase_timestamp','product_category_name_english']]\n",
    "df.head()\n",
    "df.shape"
   ]
  },
  {
   "cell_type": "code",
   "execution_count": null,
   "id": "cf9e35c5",
   "metadata": {},
   "outputs": [],
   "source": [
    "df.isna().mean()"
   ]
  },
  {
   "cell_type": "markdown",
   "id": "2fcfb094",
   "metadata": {},
   "source": [
    "## Recency, frequency, order amount"
   ]
  },
  {
   "cell_type": "markdown",
   "id": "c229e01d",
   "metadata": {},
   "source": [
    "### Order frequency by customer"
   ]
  },
  {
   "cell_type": "code",
   "execution_count": null,
   "id": "e9ab3d55",
   "metadata": {},
   "outputs": [],
   "source": [
    "recence=df[['customer_unique_id','order_purchase_timestamp']]\n",
    "recence.sort_values(by='order_purchase_timestamp', ascending=False)\n",
    "recence.head(20)"
   ]
  },
  {
   "cell_type": "code",
   "execution_count": null,
   "id": "0737f35a",
   "metadata": {},
   "outputs": [],
   "source": [
    "frequence=df[['customer_unique_id','order_purchase_timestamp']]"
   ]
  },
  {
   "cell_type": "code",
   "execution_count": null,
   "id": "e5f23f1d",
   "metadata": {
    "scrolled": true
   },
   "outputs": [],
   "source": [
    "frequence=frequence.groupby('customer_unique_id').count().sort_values('order_purchase_timestamp',ascending=False)\n",
    "frequence=frequence.reset_index().rename(columns={\"order_purchase_timestamp\": \"frequency\"})"
   ]
  },
  {
   "cell_type": "code",
   "execution_count": null,
   "id": "f5e7a961",
   "metadata": {
    "scrolled": true
   },
   "outputs": [],
   "source": [
    "df = df.merge(right=frequence, on='customer_unique_id')"
   ]
  },
  {
   "cell_type": "markdown",
   "id": "e0af9e07",
   "metadata": {},
   "source": [
    "### Last 20 orders"
   ]
  },
  {
   "cell_type": "code",
   "execution_count": null,
   "id": "6f700e22",
   "metadata": {},
   "outputs": [],
   "source": [
    "df['order_purchase_timestamp'] = df['order_purchase_timestamp'].astype('datetime64[ns]')\n",
    "df['order_purchase_timestamp'] = pd.to_datetime(df['order_purchase_timestamp'], format = '%YY%mm%dd')\n",
    "df['since_last_purchase'] = (datetime.datetime.now() - df['order_purchase_timestamp'])\n",
    "df['since_last_purchase']=df['since_last_purchase'].astype('timedelta64[D]')\n",
    "df.sort_values('since_last_purchase').head(20)"
   ]
  },
  {
   "cell_type": "markdown",
   "id": "60f6feb9",
   "metadata": {},
   "source": [
    "### Order volume by customer and by state"
   ]
  },
  {
   "cell_type": "markdown",
   "id": "c77fe969",
   "metadata": {},
   "source": [
    "#### By Customer"
   ]
  },
  {
   "cell_type": "code",
   "execution_count": null,
   "id": "96dee791",
   "metadata": {
    "scrolled": false
   },
   "outputs": [],
   "source": [
    "commandes_client=df[['customer_unique_id', 'payment_value','customer_state','review_score']].groupby(by='customer_unique_id').agg({'payment_value': 'sum','review_score':'mean'}).reset_index()\n",
    "commandes_client = commandes_client.sort_values('payment_value', ascending = False)\n",
    "commandes_client.head(20)"
   ]
  },
  {
   "cell_type": "code",
   "execution_count": null,
   "id": "213edd44",
   "metadata": {},
   "outputs": [],
   "source": [
    "fig_bar = px.bar(commandes_client.head(20), y='payment_value', x='customer_unique_id',text='customer_unique_id',\n",
    "             color= 'payment_value',color_continuous_scale = 'bluyl')          \n",
    "\n",
    "fig_bar.update_traces(texttemplate='%{text:.2s %}', textposition='outside')\n",
    "fig_bar.update_layout(uniformtext_minsize=8, uniformtext_mode='hide')\n",
    "fig_bar.update_layout(xaxis={'categoryorder':'total ascending'})\n",
    "\n",
    "fig_bar.show()"
   ]
  },
  {
   "cell_type": "markdown",
   "id": "ffa7ae7b",
   "metadata": {},
   "source": [
    "#### By state"
   ]
  },
  {
   "cell_type": "code",
   "execution_count": null,
   "id": "55aafb92",
   "metadata": {},
   "outputs": [],
   "source": [
    "commandes_etat=df[['customer_state', 'payment_value','review_score']].groupby(by=\"customer_state\").agg({'payment_value': 'sum','review_score':'mean'}).reset_index()\n",
    "commandes_etat = commandes_etat.sort_values('payment_value', ascending = False)\n",
    "commandes_etat.head(20)"
   ]
  },
  {
   "cell_type": "code",
   "execution_count": null,
   "id": "fd492462",
   "metadata": {},
   "outputs": [],
   "source": [
    "commandes_etat.head()"
   ]
  },
  {
   "cell_type": "code",
   "execution_count": null,
   "id": "6dbc1e40",
   "metadata": {},
   "outputs": [],
   "source": [
    "fig_bar = px.bar(commandes_etat, y='payment_value', x='customer_state' ,text='customer_state',\n",
    "             color='payment_value',color_continuous_scale = 'bluyl')          \n",
    "\n",
    "fig_bar.update_traces(texttemplate='%{text:.2s %}', textposition='outside')\n",
    "fig_bar.update_layout(uniformtext_minsize=8, uniformtext_mode='hide')\n",
    "fig_bar.update_layout(xaxis={'categoryorder':'total ascending'})\n",
    "\n",
    "fig_bar.show()"
   ]
  },
  {
   "cell_type": "code",
   "execution_count": null,
   "id": "ddb35f95",
   "metadata": {},
   "outputs": [],
   "source": [
    "fig_choropleth = px.choropleth(commandes_etat, geojson=geojson, locations='customer_state', color='review_score',\n",
    "                           color_continuous_scale=\"bluyl\",\n",
    "                           scope='south america'\n",
    "                          )\n",
    "fig_choropleth.show()"
   ]
  },
  {
   "cell_type": "code",
   "execution_count": null,
   "id": "7d1a3989",
   "metadata": {},
   "outputs": [],
   "source": [
    "fig_choropleth = px.choropleth(commandes_etat, geojson=geojson, locations='customer_state', color='payment_value',\n",
    "                           color_continuous_scale=\"bluyl\",\n",
    "                           scope='south america'\n",
    "                          )\n",
    "fig_choropleth.show()"
   ]
  },
  {
   "cell_type": "markdown",
   "id": "3a5ddc10",
   "metadata": {},
   "source": [
    "### Stars"
   ]
  },
  {
   "cell_type": "markdown",
   "id": "aef77384",
   "metadata": {},
   "source": [
    "He we define \"Stars\" as a combination. First customers are ordered by payment value, and then by frequency. The last order must be recent (at least january 2018). Thus the most important criterion after the recency is the total amount and then the frequency of purchases. "
   ]
  },
  {
   "cell_type": "code",
   "execution_count": null,
   "id": "1e2790fe",
   "metadata": {},
   "outputs": [],
   "source": [
    "stars=df[['customer_unique_id', 'payment_value','frequency','since_last_purchase']]\n",
    "#stars=stars[stars['since_last_purchase'] < 1770] #depuis janvier 2018\n",
    "stars=stars.groupby(by=\"customer_unique_id\").agg({'payment_value':'sum'}).reset_index()\n",
    "stars = stars.merge(right=frequence, on='customer_unique_id')\n",
    "stars = stars.sort_values(['payment_value','frequency'], ascending = [False,False])\n",
    "stars['average_purchase_value']=np.round(stars['payment_value']/stars['frequency'],2)\n",
    "stars.head(5)\n"
   ]
  },
  {
   "cell_type": "markdown",
   "id": "f3a70b0f",
   "metadata": {},
   "source": [
    "## Preparation of the data for clustering"
   ]
  },
  {
   "cell_type": "markdown",
   "id": "e56c1f3d",
   "metadata": {},
   "source": [
    "As the clustering algorithm only works with numbers we transform each individual value in the table as a \"category code\" same values thus have same numerical values thus can be used in the clustering. We do the same for datetimes. "
   ]
  },
  {
   "cell_type": "code",
   "execution_count": null,
   "id": "748a1d9d",
   "metadata": {
    "scrolled": true
   },
   "outputs": [],
   "source": [
    "df['customer_unique_id'] = pd.Categorical(df['customer_unique_id'])\n",
    "df['customer_code'] = df['customer_unique_id'].cat.codes\n",
    "\n",
    "df['customer_city'] = pd.Categorical(df['customer_city'])\n",
    "df['city_code'] = df['customer_city'].cat.codes\n",
    "\n",
    "df['customer_state'] = pd.Categorical(df['customer_state'])\n",
    "df['state_code'] = df['customer_state'].cat.codes\n",
    "\n",
    "df['order_id'] = pd.Categorical(df['order_id'])\n",
    "df['order_code'] = df['order_id'].cat.codes\n",
    "\n",
    "df['product_id'] = pd.Categorical(df['product_id'])\n",
    "df['product_code'] = df['product_id'].cat.codes\n",
    "\n",
    "df['product_id'] = pd.Categorical(df['product_id'])\n",
    "df['product_code'] = df['product_id'].cat.codes\n",
    "\n",
    "df['order_purchase_timestamp_str'] = df['order_purchase_timestamp']\n",
    "df['order_purchase_timestamp'] = pd.to_datetime(df['order_purchase_timestamp']).astype(np.int64)\n",
    "\n",
    "df['product_category_name_english'] = pd.Categorical(df['product_category_name_english'])\n",
    "df['product_category_code'] = df['product_category_name_english'].cat.codes\n",
    "\n",
    "df.head()"
   ]
  },
  {
   "cell_type": "markdown",
   "id": "35c6ecf7",
   "metadata": {},
   "source": [
    "We also check for correlations, having features with too much correlation will negatively influence the performance of the clustering."
   ]
  },
  {
   "cell_type": "code",
   "execution_count": null,
   "id": "355298aa",
   "metadata": {
    "scrolled": false
   },
   "outputs": [],
   "source": [
    "sns.set(rc = {'figure.figsize':(30,15)})\n",
    "sns.heatmap(df.corr(), annot=True, cmap='YlGnBu')"
   ]
  },
  {
   "cell_type": "code",
   "execution_count": null,
   "id": "8f478a34",
   "metadata": {},
   "outputs": [],
   "source": [
    "df_final=df[['order_purchase_timestamp_str','order_purchase_timestamp','customer_code',\n",
    "    'price','payment_value','review_score','freight_value','frequency','since_last_purchase']]"
   ]
  },
  {
   "cell_type": "markdown",
   "id": "c8a0aa97",
   "metadata": {},
   "source": [
    "We now export the data to be processed by the following notebook"
   ]
  },
  {
   "cell_type": "code",
   "execution_count": null,
   "id": "3f2ee753",
   "metadata": {},
   "outputs": [],
   "source": [
    "del df"
   ]
  },
  {
   "cell_type": "code",
   "execution_count": null,
   "id": "7a7364e5",
   "metadata": {},
   "outputs": [],
   "source": [
    "df_final.to_csv('datasets/cleaned.csv', index = False, header=True)"
   ]
  }
 ],
 "metadata": {
  "kernelspec": {
   "display_name": "Python 3 (ipykernel)",
   "language": "python",
   "name": "python3"
  },
  "language_info": {
   "codemirror_mode": {
    "name": "ipython",
    "version": 3
   },
   "file_extension": ".py",
   "mimetype": "text/x-python",
   "name": "python",
   "nbconvert_exporter": "python",
   "pygments_lexer": "ipython3",
   "version": "3.11.3"
  },
  "notify_time": "5",
  "toc": {
   "base_numbering": 1,
   "nav_menu": {
    "height": "197.977px",
    "width": "393.973px"
   },
   "number_sections": true,
   "sideBar": true,
   "skip_h1_title": false,
   "title_cell": "Table of Contents",
   "title_sidebar": "Contents",
   "toc_cell": false,
   "toc_position": {},
   "toc_section_display": true,
   "toc_window_display": false
  }
 },
 "nbformat": 4,
 "nbformat_minor": 5
}
