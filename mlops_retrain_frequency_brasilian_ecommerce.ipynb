{
 "cells": [
  {
   "cell_type": "markdown",
   "id": "c1c5a1a0",
   "metadata": {},
   "source": [
    "# MLOPS : Define the optimal retrain frequency"
   ]
  },
  {
   "cell_type": "code",
   "execution_count": 1,
   "id": "bc36696f",
   "metadata": {},
   "outputs": [
    {
     "name": "stderr",
     "output_type": "stream",
     "text": [
      "2023-08-01 14:11:02.561889: I tensorflow/tsl/cuda/cudart_stub.cc:28] Could not find cuda drivers on your machine, GPU will not be used.\n",
      "2023-08-01 14:11:02.709461: I tensorflow/tsl/cuda/cudart_stub.cc:28] Could not find cuda drivers on your machine, GPU will not be used.\n",
      "2023-08-01 14:11:02.710139: I tensorflow/core/platform/cpu_feature_guard.cc:182] This TensorFlow binary is optimized to use available CPU instructions in performance-critical operations.\n",
      "To enable the following instructions: AVX2 FMA, in other operations, rebuild TensorFlow with the appropriate compiler flags.\n",
      "2023-08-01 14:11:03.671857: W tensorflow/compiler/tf2tensorrt/utils/py_utils.cc:38] TF-TRT Warning: Could not find TensorRT\n"
     ]
    }
   ],
   "source": [
    "import numpy as np\n",
    "import pandas as pd\n",
    "import matplotlib as mpl\n",
    "import matplotlib.pyplot as plt\n",
    "import seaborn as sns\n",
    "import plotly.express as px\n",
    "import scipy.stats as st\n",
    "from sklearn.decomposition import PCA\n",
    "from sklearn import preprocessing as pp\n",
    "\n",
    "from datetime import date\n",
    "from tqdm.notebook import tqdm\n",
    "from tqdm.keras import TqdmCallback\n",
    "\n",
    "from sklearn.cluster import KMeans as km\n",
    "from sklearn.cluster import MeanShift\n",
    "from sklearn.cluster import DBSCAN\n",
    "from sklearn.cluster import AgglomerativeClustering\n",
    "from sklearn.metrics import silhouette_score\n",
    "from sklearn.metrics.cluster import adjusted_rand_score\n",
    "\n",
    "pd.set_option('display.max_columns', None)"
   ]
  },
  {
   "cell_type": "code",
   "execution_count": 2,
   "id": "afd6bf32",
   "metadata": {},
   "outputs": [
    {
     "name": "stdout",
     "output_type": "stream",
     "text": [
      "Index(['order_purchase_timestamp_str', 'order_purchase_timestamp',\n",
      "       'customer_code', 'price', 'payment_value', 'review_score',\n",
      "       'freight_value', 'frequency', 'since_last_purchase'],\n",
      "      dtype='object')\n",
      "(115609, 9)\n"
     ]
    }
   ],
   "source": [
    "df = pd.read_csv('datasets/cleaned.csv')\n",
    "print(df.columns)\n",
    "print(df.shape)"
   ]
  },
  {
   "cell_type": "markdown",
   "id": "4abd039f",
   "metadata": {},
   "source": [
    "## Preparation Periodic DataFrame"
   ]
  },
  {
   "cell_type": "code",
   "execution_count": 3,
   "id": "37a634a7",
   "metadata": {
    "scrolled": false
   },
   "outputs": [
    {
     "data": {
      "text/html": [
       "<div>\n",
       "<style scoped>\n",
       "    .dataframe tbody tr th:only-of-type {\n",
       "        vertical-align: middle;\n",
       "    }\n",
       "\n",
       "    .dataframe tbody tr th {\n",
       "        vertical-align: top;\n",
       "    }\n",
       "\n",
       "    .dataframe thead th {\n",
       "        text-align: right;\n",
       "    }\n",
       "</style>\n",
       "<table border=\"1\" class=\"dataframe\">\n",
       "  <thead>\n",
       "    <tr style=\"text-align: right;\">\n",
       "      <th></th>\n",
       "      <th>customer_code</th>\n",
       "      <th>price</th>\n",
       "      <th>payment_value</th>\n",
       "      <th>review_score</th>\n",
       "      <th>freight_value</th>\n",
       "      <th>frequency</th>\n",
       "      <th>since_last_purchase</th>\n",
       "    </tr>\n",
       "  </thead>\n",
       "  <tbody>\n",
       "    <tr>\n",
       "      <th>0</th>\n",
       "      <td>5923</td>\n",
       "      <td>148.0</td>\n",
       "      <td>184.36</td>\n",
       "      <td>5</td>\n",
       "      <td>36.36</td>\n",
       "      <td>1</td>\n",
       "      <td>2038.0</td>\n",
       "    </tr>\n",
       "    <tr>\n",
       "      <th>1</th>\n",
       "      <td>54080</td>\n",
       "      <td>151.2</td>\n",
       "      <td>169.51</td>\n",
       "      <td>5</td>\n",
       "      <td>18.31</td>\n",
       "      <td>1</td>\n",
       "      <td>2038.0</td>\n",
       "    </tr>\n",
       "    <tr>\n",
       "      <th>2</th>\n",
       "      <td>4131</td>\n",
       "      <td>43.2</td>\n",
       "      <td>55.05</td>\n",
       "      <td>5</td>\n",
       "      <td>11.85</td>\n",
       "      <td>1</td>\n",
       "      <td>2038.0</td>\n",
       "    </tr>\n",
       "    <tr>\n",
       "      <th>3</th>\n",
       "      <td>412</td>\n",
       "      <td>139.0</td>\n",
       "      <td>189.84</td>\n",
       "      <td>5</td>\n",
       "      <td>50.84</td>\n",
       "      <td>1</td>\n",
       "      <td>2038.0</td>\n",
       "    </tr>\n",
       "    <tr>\n",
       "      <th>4</th>\n",
       "      <td>51787</td>\n",
       "      <td>99.0</td>\n",
       "      <td>106.95</td>\n",
       "      <td>5</td>\n",
       "      <td>7.95</td>\n",
       "      <td>1</td>\n",
       "      <td>2038.0</td>\n",
       "    </tr>\n",
       "    <tr>\n",
       "      <th>...</th>\n",
       "      <td>...</td>\n",
       "      <td>...</td>\n",
       "      <td>...</td>\n",
       "      <td>...</td>\n",
       "      <td>...</td>\n",
       "      <td>...</td>\n",
       "      <td>...</td>\n",
       "    </tr>\n",
       "    <tr>\n",
       "      <th>8008</th>\n",
       "      <td>22218</td>\n",
       "      <td>49.0</td>\n",
       "      <td>74.63</td>\n",
       "      <td>5</td>\n",
       "      <td>25.63</td>\n",
       "      <td>1</td>\n",
       "      <td>2008.0</td>\n",
       "    </tr>\n",
       "    <tr>\n",
       "      <th>8009</th>\n",
       "      <td>48375</td>\n",
       "      <td>249.9</td>\n",
       "      <td>319.11</td>\n",
       "      <td>1</td>\n",
       "      <td>69.21</td>\n",
       "      <td>1</td>\n",
       "      <td>2008.0</td>\n",
       "    </tr>\n",
       "    <tr>\n",
       "      <th>8010</th>\n",
       "      <td>80893</td>\n",
       "      <td>49.0</td>\n",
       "      <td>65.79</td>\n",
       "      <td>4</td>\n",
       "      <td>16.79</td>\n",
       "      <td>1</td>\n",
       "      <td>2008.0</td>\n",
       "    </tr>\n",
       "    <tr>\n",
       "      <th>8011</th>\n",
       "      <td>41579</td>\n",
       "      <td>96.9</td>\n",
       "      <td>110.60</td>\n",
       "      <td>1</td>\n",
       "      <td>13.70</td>\n",
       "      <td>1</td>\n",
       "      <td>2008.0</td>\n",
       "    </tr>\n",
       "    <tr>\n",
       "      <th>8012</th>\n",
       "      <td>23346</td>\n",
       "      <td>39.9</td>\n",
       "      <td>55.01</td>\n",
       "      <td>3</td>\n",
       "      <td>15.11</td>\n",
       "      <td>1</td>\n",
       "      <td>2008.0</td>\n",
       "    </tr>\n",
       "  </tbody>\n",
       "</table>\n",
       "<p>8013 rows × 7 columns</p>\n",
       "</div>"
      ],
      "text/plain": [
       "      customer_code  price  payment_value  review_score  freight_value  \\\n",
       "0              5923  148.0         184.36             5          36.36   \n",
       "1             54080  151.2         169.51             5          18.31   \n",
       "2              4131   43.2          55.05             5          11.85   \n",
       "3               412  139.0         189.84             5          50.84   \n",
       "4             51787   99.0         106.95             5           7.95   \n",
       "...             ...    ...            ...           ...            ...   \n",
       "8008          22218   49.0          74.63             5          25.63   \n",
       "8009          48375  249.9         319.11             1          69.21   \n",
       "8010          80893   49.0          65.79             4          16.79   \n",
       "8011          41579   96.9         110.60             1          13.70   \n",
       "8012          23346   39.9          55.01             3          15.11   \n",
       "\n",
       "      frequency  since_last_purchase  \n",
       "0             1               2038.0  \n",
       "1             1               2038.0  \n",
       "2             1               2038.0  \n",
       "3             1               2038.0  \n",
       "4             1               2038.0  \n",
       "...         ...                  ...  \n",
       "8008          1               2008.0  \n",
       "8009          1               2008.0  \n",
       "8010          1               2008.0  \n",
       "8011          1               2008.0  \n",
       "8012          1               2008.0  \n",
       "\n",
       "[8013 rows x 7 columns]"
      ]
     },
     "execution_count": 3,
     "metadata": {},
     "output_type": "execute_result"
    }
   ],
   "source": [
    "list_of_df = list()\n",
    "# Set the Index to be the Date\n",
    "df['Date'] = pd.to_datetime(df['order_purchase_timestamp'], format='%Y/%m/%d')\n",
    "df.set_index('Date', inplace=True)\n",
    "\n",
    "# Sort the Data\n",
    "df = df.sort_values('order_purchase_timestamp')\n",
    "\n",
    "From = pd.to_datetime('2017-01-01')\n",
    "To   = pd.to_datetime('2017-12-31')\n",
    "X0 = df.loc[From:To,:].reset_index(level=0)\n",
    "X0 =X0.drop(['Date','order_purchase_timestamp_str','order_purchase_timestamp'],axis=1)\n",
    "\n",
    "year=2018\n",
    "for month in range(1,12):\n",
    "# Slice the Data\n",
    "    From = pd.to_datetime(str(year)+'-'+str(month)+'-1')\n",
    "    if year==2016 and month == 2:\n",
    "        To   = pd.to_datetime(str(year)+'-'+str(month)+'-29')\n",
    "    elif month == 2:\n",
    "        To   = pd.to_datetime(str(year)+'-'+str(month)+'-28')\n",
    "    elif month > 1 and month < 7 and month%2 == 0 or month > 7 and month < 12 and month%2 == 1:\n",
    "        To   = pd.to_datetime(str(year)+'-'+str(month)+'-30')\n",
    "    else:\n",
    "        To   = pd.to_datetime(str(year)+'-'+str(month)+'-31')\n",
    "    df_element = df.loc[From:To,:].reset_index(level=0)\n",
    "    if df_element.shape[0] != 0:\n",
    "        list_of_df.append(df_element.drop(['Date','order_purchase_timestamp_str','order_purchase_timestamp'],axis=1))\n",
    "\n",
    "list_of_df[0]"
   ]
  },
  {
   "cell_type": "markdown",
   "id": "1424bd48",
   "metadata": {},
   "source": [
    "## Functions"
   ]
  },
  {
   "cell_type": "markdown",
   "id": "3cca8a07",
   "metadata": {},
   "source": [
    "We create recurrent functions in order be able to call them in multiple situations. "
   ]
  },
  {
   "cell_type": "markdown",
   "id": "17ac71ce",
   "metadata": {},
   "source": [
    "In this case we have the PCA to reduce the number of dimensions"
   ]
  },
  {
   "cell_type": "code",
   "execution_count": 4,
   "id": "f56530c0",
   "metadata": {},
   "outputs": [],
   "source": [
    "def principalaxles(df):\n",
    "\n",
    "    df = pp.StandardScaler().fit_transform(df)\n",
    "    df = pd.DataFrame(data=df)\n",
    "    pca = PCA()\n",
    "    pca.fit(df)\n",
    "    pca_data = pca.transform(df)\n",
    "    per_var =  np.round(pca.explained_variance_ratio_*100, decimals = 1)\n",
    "    labels =['PC' + str(x) for x in range(1, len(per_var)+1)]\n",
    "    pca_df = pd.DataFrame(pca_data, columns=labels)\n",
    "    \n",
    "    return pca_df"
   ]
  },
  {
   "cell_type": "markdown",
   "id": "438ec836",
   "metadata": {},
   "source": [
    "The elbow method consists in calculating the variance for every number of clusters if applied to the data. Is is common practice for the KMeans Model to choose the number of clusters at the inflexion point (elbow) in the graph as the best tradeoff between variance and plausibility of the individual clusters"
   ]
  },
  {
   "cell_type": "code",
   "execution_count": 5,
   "id": "c10b1286",
   "metadata": {
    "scrolled": false
   },
   "outputs": [],
   "source": [
    "def elbow(method, X):\n",
    "    tab = []\n",
    "    r = range(1, 40)\n",
    "    for i in tqdm(r):\n",
    "        kmeans = km(n_clusters=i)\n",
    "        kmeans.fit(X)\n",
    "        tab.append(kmeans.inertia_)\n",
    "\n",
    "    plt.plot(r, tab)\n",
    "    plt.title('Elbow Method')\n",
    "    plt.xlabel('Nb of Clusters')\n",
    "    plt.ylabel('Inertia')\n",
    "    plt.show()"
   ]
  },
  {
   "cell_type": "markdown",
   "id": "d5bbe36c",
   "metadata": {},
   "source": [
    "The Rand Index computes a similarity measure between two clusterings by considering all pairs of samples and counting pairs that are assigned in the same or different clusters in the predicted and true clusterings.\n",
    "\n",
    "The adjusted Rand values range between -1 and 1. A score close to 0.0 indicates random assignments, and a score close to 1 indicates perfectly labeled clusters.\n",
    "\n",
    "Method 1 - Single Fit, Multiple Predict: This method involves training the model once and then using this trained model to make predictions on new data as it comes in. This is essentially the traditional method of deploying a machine learning model in a production environment.\n",
    "In the context of MLOps, this means that you would only need to train your model once, and then you could continuously deploy it to make predictions on new data. This can be more efficient in terms of computational resources, as you don't need to retrain your model every time you have new data. However, the downside is that your model may not adapt well if the new data differs significantly from the data it was trained on.\n",
    "\n",
    "Method 2 - Monthly Fit and Predict: This method involves retraining the model every time new data comes in. This can be useful if your data is changing over time (a concept known as concept drift in machine learning), as it allows your model to adapt to the new data.\n",
    "In an MLOps context, this method could involve setting up a pipeline that automatically retrains your model on a regular basis (e.g., every month, as suggested by the function name). This can help ensure that your model stays up-to-date with the latest data, but it can also be more computationally intensive, as you need to retrain your model regularly.\n",
    "\n",
    "The Adjusted Rand Index (ARI) is then used to compare the results of these two methods. The ARI is a measure of the similarity between two data clusterings, taking into account chance groupings, and is often used in scenarios where the ground truth labels are not known.\n",
    "\n",
    "This kind of comparison can be very useful in an MLOps context to understand how different approaches to model training and prediction can affect the performance of your machine learning models. By comparing the ARI scores, you can get an idea of whether retraining your model regularly (Method 2) offers any advantages over using a single, initially trained model (Method 1)."
   ]
  },
  {
   "cell_type": "code",
   "execution_count": 6,
   "id": "62a6f6bf",
   "metadata": {
    "code_folding": []
   },
   "outputs": [],
   "source": [
    "# def ari(model,X0,dflist):\n",
    "#     m1 = []\n",
    "#     m2 = []\n",
    "#     score = []\n",
    "#     df_ant = []\n",
    "    \n",
    "# #Method 1 - Single Fit, Multiple Predict\n",
    "#     labels = model.fit(principalaxles(X0))\n",
    "#     m1.append(labels)\n",
    "#     df_ant = X0\n",
    "#     for df in dflist[0:-1]:\n",
    "#         df = df.append(df_ant)\n",
    "#         pca_df = principalaxles(df)\n",
    "#         if pca_df.shape[1] != 0:\n",
    "#             d = model.predict(pca_df)\n",
    "#             m1.append(d)\n",
    "#             df_ant = df       \n",
    "#     df_ant = []\n",
    "    \n",
    "# #Method 2 - Monthly Fit and Predict\n",
    "#     labels = model.fit(principalaxles(X0))\n",
    "#     m2.append(labels)\n",
    "#     df_ant = X0\n",
    "#     for df in dflist[:-1]:\n",
    "#         df = df.append(df_ant)\n",
    "#         if df.shape[1] != 0:\n",
    "#             pca_df = principalaxles(df)\n",
    "#             labels = model.fit(pca_df)\n",
    "#             d = model.predict(pca_df)\n",
    "#             m2.append(d)\n",
    "#             df_ant = df\n",
    "            \n",
    "# #ARI\n",
    "#     for i in range(1,len(m1)):\n",
    "#         ari = str(i),adjusted_rand_score(m1[i], m2[i])\n",
    "\n",
    "#         score.append(ari)\n",
    "        \n",
    "#     score=pd.DataFrame(data=score)\n",
    "\n",
    "\n",
    "#     return score"
   ]
  },
  {
   "cell_type": "code",
   "execution_count": 7,
   "id": "211638e0",
   "metadata": {},
   "outputs": [],
   "source": [
    "def ari(model,X0,dflist):\n",
    "    m1 = []\n",
    "    m2 = []\n",
    "    score = []\n",
    "    df_ant = []\n",
    "    \n",
    "    # Method 1 - Single Fit, Multiple Predict\n",
    "    labels = model.fit(principalaxles(X0))\n",
    "    m1 = m1 + [labels]\n",
    "    df_ant = X0\n",
    "    for df in dflist[0:-1]:\n",
    "        df = pd.concat([df, df_ant])\n",
    "        pca_df = principalaxles(df)\n",
    "        if pca_df.shape[1] != 0:\n",
    "            d = model.predict(pca_df)\n",
    "            m1 = m1 + [d]\n",
    "            df_ant = df       \n",
    "    df_ant = []\n",
    "    \n",
    "    # Method 2 - Monthly Fit and Predict\n",
    "    labels = model.fit(principalaxles(X0))\n",
    "    m2 = m2 + [labels]\n",
    "    df_ant = X0\n",
    "    for df in dflist[:-1]:\n",
    "        df = pd.concat([df, df_ant])\n",
    "        if df.shape[1] != 0:\n",
    "            pca_df = principalaxles(df)\n",
    "            labels = model.fit(pca_df)\n",
    "            d = model.predict(pca_df)\n",
    "            m2 = m2 + [d]\n",
    "            df_ant = df\n",
    "            \n",
    "    # ARI\n",
    "    for i in range(1,len(m1)):\n",
    "        ari = (str(i), adjusted_rand_score(m1[i], m2[i]))\n",
    "        score = score + [ari]\n",
    "        \n",
    "    score = pd.DataFrame(data=score)\n",
    "\n",
    "    return score\n"
   ]
  },
  {
   "cell_type": "code",
   "execution_count": 8,
   "id": "5e276f4d",
   "metadata": {},
   "outputs": [],
   "source": [
    "def plot(X, labels):\n",
    "    fig = plt.figure()\n",
    "    ax = fig.add_subplot()\n",
    "    ax.scatter(X.iloc[:, 0], X.iloc[:, 1], c=labels)\n",
    "    ax.set_xlabel(X.columns[0])\n",
    "    ax.set_ylabel(X.columns[1])\n",
    "    plt.show()"
   ]
  },
  {
   "cell_type": "markdown",
   "id": "801f0250",
   "metadata": {},
   "source": [
    "## Calcul du ARI avec KMeans"
   ]
  },
  {
   "cell_type": "code",
   "execution_count": 9,
   "id": "88cbd858",
   "metadata": {
    "scrolled": false
   },
   "outputs": [],
   "source": [
    "#elbow(km(),list_of_df[0])\n",
    "score_km = ari(km(n_clusters=3,random_state=1, n_init=10),X0,list_of_df)"
   ]
  },
  {
   "cell_type": "code",
   "execution_count": 10,
   "id": "8984e6ca",
   "metadata": {
    "scrolled": false
   },
   "outputs": [
    {
     "data": {
      "text/plain": [
       "<Axes: >"
      ]
     },
     "execution_count": 10,
     "metadata": {},
     "output_type": "execute_result"
    },
    {
     "data": {
      "image/png": "[encoded data removed]",
      "text/plain": [
       "<Figure size 640x480 with 1 Axes>"
      ]
     },
     "metadata": {},
     "output_type": "display_data"
    }
   ],
   "source": [
    "sns.lineplot(data=score_km)"
   ]
  },
  {
   "cell_type": "markdown",
   "id": "9dd09b6f",
   "metadata": {},
   "source": [
    "As we can see the ARI crashes dramatically after 2 months. Meaning that it is considered optimal to retrain the data every 2 motnhs in order to get the best performance. "
   ]
  },
  {
   "cell_type": "code",
   "execution_count": null,
   "id": "45d93cf7",
   "metadata": {},
   "outputs": [],
   "source": []
  }
 ],
 "metadata": {
  "kernelspec": {
   "display_name": "Python 3 (ipykernel)",
   "language": "python",
   "name": "python3"
  },
  "language_info": {
   "codemirror_mode": {
    "name": "ipython",
    "version": 3
   },
   "file_extension": ".py",
   "mimetype": "text/x-python",
   "name": "python",
   "nbconvert_exporter": "python",
   "pygments_lexer": "ipython3",
   "version": "3.11.3"
  },
  "toc": {
   "base_numbering": 1,
   "nav_menu": {
    "height": "197.977px",
    "width": "393.973px"
   },
   "number_sections": true,
   "sideBar": true,
   "skip_h1_title": false,
   "title_cell": "Table of Contents",
   "title_sidebar": "Contents",
   "toc_cell": false,
   "toc_position": {},
   "toc_section_display": true,
   "toc_window_display": false
  }
 },
 "nbformat": 4,
 "nbformat_minor": 5
}
